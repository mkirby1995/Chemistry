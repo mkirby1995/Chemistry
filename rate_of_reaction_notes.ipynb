{
 "cells": [
  {
   "cell_type": "code",
   "execution_count": 8,
   "metadata": {},
   "outputs": [],
   "source": [
    "!pip install pint --quiet"
   ]
  },
  {
   "cell_type": "markdown",
   "metadata": {},
   "source": [
    "1. Reaction rate\n",
    "\n",
    "CO2 Methination\n",
    "\n",
    "`CO2 + 4H2 -> CH4 + 2H2O`\n",
    "\n",
    "`r = k * [CO2]**m * [H2]**n`\n",
    "\n",
    "For the CO₂ methanation reaction, the general form of the rate expression based on the rate constant \\( k \\), concentrations, and reaction orders is:\n",
    "\n",
    "$$\n",
    "r = k \\prod_{i} \\left( C_i^{\\nu_i} \\right)\n",
    "$$\n",
    "\n",
    "where:\n",
    "- \\( r \\) is the reaction rate.\n",
    "- \\( k \\) is the rate constant.\n",
    "- \\( C_i \\) is the concentration of species \\( i \\).\n",
    "- \\( \\nu_i \\) is the reaction order of species \\( i \\).\n",
    "\n",
    "An example reaction rate for CO₂ methanation with specific orders for CO₂ and H₂ is:\n",
    "\n",
    "$$\n",
    "r = k \\cdot C_{\\text{CO}_2}^{0.34} \\cdot C_{\\text{H}_2}^{0.88}\n",
    "$$\n",
    "\n",
    "where:\n",
    "- \\( C_{\\text{CO}_2} \\) is the concentration of CO₂.\n",
    "- \\( C_{\\text{H}_2} \\) is the concentration of H₂.\n",
    "\n",
    "k: rate constant, how fast the reation occurs\n",
    "\n",
    "CO2, H2, concentrations \n",
    "\n",
    "m, n reaction orders\n"
   ]
  },
  {
   "cell_type": "code",
   "execution_count": 9,
   "metadata": {},
   "outputs": [
    {
     "name": "stdout",
     "output_type": "stream",
     "text": [
      "Reaction Rate: 5161.602436487102 kilopascal ** 0.34 * mole / kilogram / second\n"
     ]
    }
   ],
   "source": [
    "from pint import UnitRegistry\n",
    "\n",
    "# Initialize a unit registry\n",
    "ureg = UnitRegistry()\n",
    "Q_ = ureg.Quantity  # Shortcut to create quantities with units\n",
    "\n",
    "def rate_of_reaction(rate_constant, concentrations, orders):\n",
    "    \"\"\"\n",
    "    Calculate the rate of reaction based on concentrations and reaction orders.\n",
    "\n",
    "    Parameters:\n",
    "    - rate_constant (Quantity): The rate constant of the reaction, with appropriate units.\n",
    "    - concentrations (dict): A dictionary where keys are species names and values are their concentrations with units.\n",
    "    - orders (dict): A dictionary where keys are species names and values are their reaction orders.\n",
    "\n",
    "    Returns:\n",
    "    - reaction_rate (Quantity): The calculated rate of reaction with units.\n",
    "    \"\"\"\n",
    "    # Initialize the reaction rate with the rate constant\n",
    "    reaction_rate = rate_constant\n",
    "    \n",
    "    # Loop through each species and multiply by concentration raised to its order\n",
    "    for species, concentration in concentrations.items():\n",
    "        # Get the reaction order for the species (default to 1 if not specified)\n",
    "        order = orders.get(species, 1)\n",
    "        reaction_rate *= concentration ** order\n",
    "    \n",
    "    return reaction_rate\n",
    "\n",
    "# Example usage\n",
    "# Define the rate constant with units (e.g., mol/(s·kg·L^0.88))\n",
    "rate_constant = Q_(3550, 'mol/(s * kg * kPa^0.88)')\n",
    "\n",
    "# Define concentrations with units\n",
    "concentrations = {\n",
    "    \"CO2\": Q_(0.5, 'kPa'),\n",
    "    \"H2\": Q_(2.0, 'kPa')\n",
    "}\n",
    "\n",
    "# Define orders\n",
    "orders = {\n",
    "    \"CO2\": 0.34,\n",
    "    \"H2\": 0.88\n",
    "}\n",
    "\n",
    "# Calculate the reaction rate\n",
    "reaction_rate = rate_of_reaction(rate_constant, concentrations, orders)\n",
    "print(\"Reaction Rate:\", reaction_rate)\n"
   ]
  },
  {
   "cell_type": "markdown",
   "metadata": {},
   "source": [
    "2. Rate constant and temperature dependance (Arrhenius Equation)\n",
    "\n",
    "Arrhenius (uh rain e us) Equation\n",
    "\n",
    "[wikipedia](https://en.wikipedia.org/wiki/Arrhenius_equation)\n",
    "\n",
    "k is influenced by temperature\n",
    "\n",
    "`k = A * (e ** (Ea / (R * T)))`\n",
    "\n",
    "A pre exponential factor, the frequency of reactant collisions\n",
    "\n",
    "Ea activation energy: minimum energy needed for reaction to occur\n",
    "\n",
    "R universal gas constant\n",
    "\n",
    "T absolute temperature"
   ]
  },
  {
   "cell_type": "code",
   "execution_count": null,
   "metadata": {},
   "outputs": [],
   "source": []
  },
  {
   "cell_type": "markdown",
   "metadata": {},
   "source": [
    "3. Reaction Order and Mechanism \n",
    "\n",
    "Langmuir-Hinshelwood \n",
    "\n",
    "surface adsorption on a catalyst \n",
    "\n",
    "r = "
   ]
  },
  {
   "cell_type": "markdown",
   "metadata": {},
   "source": [
    "What is a adiabatic reactor?\n",
    "\n",
    "A reactor that has little to no heat transfer with its surroundings\n",
    "\n",
    "no radial heat loss and no axial heat exchange\n",
    "\n",
    "In contrast an isothermal reactor is one which transmits heat to surroundings so as to maintain a constant temperature\n",
    "\n"
   ]
  },
  {
   "cell_type": "markdown",
   "metadata": {},
   "source": [
    "5. Mass and energy ballance coupling\n",
    "\n",
    "heat released by the reaction raises the temperature which affects the rate constant (k)\n",
    "\n",
    "higher temperatures increase the rate if reaction but can also shift equilibrium and reduce yield"
   ]
  },
  {
   "cell_type": "markdown",
   "metadata": {},
   "source": [
    "6. Transition State Theory\n",
    "\n",
    "reactants -> transition state -> products\n",
    "\n",
    "delta G is the energy difference between the reactants and the transition state or the activation energy \n",
    "transition state is also known as the activation complex\n",
    "transition state is where old bonds are partially broken and new bonds are partially formed \n",
    "it it unstable and doesn not last for long"
   ]
  },
  {
   "cell_type": "markdown",
   "metadata": {},
   "source": [
    "2. Activation energy\n",
    "\n",
    "delta g free energy difference between the reactants and the transition state\n",
    "consists of both the enthalpy (delta h) and entropy (delta s) components"
   ]
  },
  {
   "cell_type": "markdown",
   "metadata": {},
   "source": [
    "3. The Eyring Equation\n",
    "\n",
    "k rate constant\n",
    "\n",
    "Kb boltzman constant\n",
    "\n",
    "T temperature (kelvin)\n",
    "\n",
    "h planks conatant\n",
    "\n",
    "delta g gibbs free energy of activation\n",
    "\n",
    "R universal gas constant"
   ]
  }
 ],
 "metadata": {
  "kernelspec": {
   "display_name": ".venv",
   "language": "python",
   "name": "python3"
  },
  "language_info": {
   "name": "python",
   "version": "3.12.7"
  }
 },
 "nbformat": 4,
 "nbformat_minor": 2
}
