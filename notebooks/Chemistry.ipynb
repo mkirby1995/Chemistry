{
  "nbformat": 4,
  "nbformat_minor": 0,
  "metadata": {
    "colab": {
      "name": "Chemistry.ipynb",
      "provenance": [],
      "collapsed_sections": []
    },
    "kernelspec": {
      "name": "python3",
      "display_name": "Python 3"
    }
  },
  "cells": [
    {
      "cell_type": "markdown",
      "metadata": {
        "id": "PLZuXbeau3k6",
        "colab_type": "text"
      },
      "source": [
        "## Elements"
      ]
    },
    {
      "cell_type": "code",
      "metadata": {
        "id": "7iaop-3Ku6TQ",
        "colab_type": "code",
        "colab": {}
      },
      "source": [
        "import pandas as pd"
      ],
      "execution_count": 0,
      "outputs": []
    },
    {
      "cell_type": "code",
      "metadata": {
        "id": "xXARV3jcrcfs",
        "colab_type": "code",
        "colab": {}
      },
      "source": [
        "class Element:\n",
        "\n",
        "\n",
        "  def __init__(self, name, abrivation, atomic_number,\n",
        "               atomic_mass, period, group):\n",
        "    \n",
        "    self.name = name\n",
        "    self.abrivation = abrivation\n",
        "    self.atomic_number = atomic_number\n",
        "    self.atomic_mass = atomic_mass\n",
        "    self.period = period #row\n",
        "    self.group = group #column\n",
        "    self.protons = self.atomic_number\n",
        "    self.neutrons = self.atomic_mass - self.protons\n",
        "\n",
        "\n",
        "  def __repr__(self):\n",
        "    return f\"{self.abrivation}\\n{self.atomic_number}\\n{self.atomic_mass}\""
      ],
      "execution_count": 0,
      "outputs": []
    },
    {
      "cell_type": "code",
      "metadata": {
        "id": "hqM51z6Yu8lO",
        "colab_type": "code",
        "outputId": "604ebf9f-8c61-4ce4-f9ba-0a04ea1a7626",
        "colab": {
          "base_uri": "https://localhost:8080/",
          "height": 204
        }
      },
      "source": [
        "df = pd.read_csv('elements.csv', header=None).dropna(axis = 0)\n",
        "df.head()"
      ],
      "execution_count": 0,
      "outputs": [
        {
          "output_type": "execute_result",
          "data": {
            "text/html": [
              "<div>\n",
              "<style scoped>\n",
              "    .dataframe tbody tr th:only-of-type {\n",
              "        vertical-align: middle;\n",
              "    }\n",
              "\n",
              "    .dataframe tbody tr th {\n",
              "        vertical-align: top;\n",
              "    }\n",
              "\n",
              "    .dataframe thead th {\n",
              "        text-align: right;\n",
              "    }\n",
              "</style>\n",
              "<table border=\"1\" class=\"dataframe\">\n",
              "  <thead>\n",
              "    <tr style=\"text-align: right;\">\n",
              "      <th></th>\n",
              "      <th>0</th>\n",
              "      <th>1</th>\n",
              "      <th>2</th>\n",
              "      <th>3</th>\n",
              "      <th>4</th>\n",
              "      <th>5</th>\n",
              "    </tr>\n",
              "  </thead>\n",
              "  <tbody>\n",
              "    <tr>\n",
              "      <th>0</th>\n",
              "      <td>'Hydrogen'</td>\n",
              "      <td>'H'</td>\n",
              "      <td>1.0</td>\n",
              "      <td>1.008</td>\n",
              "      <td>1.0</td>\n",
              "      <td>1.0</td>\n",
              "    </tr>\n",
              "    <tr>\n",
              "      <th>1</th>\n",
              "      <td>'Helium'</td>\n",
              "      <td>'He'</td>\n",
              "      <td>2.0</td>\n",
              "      <td>4.003</td>\n",
              "      <td>1.0</td>\n",
              "      <td>18.0</td>\n",
              "    </tr>\n",
              "    <tr>\n",
              "      <th>2</th>\n",
              "      <td>'Lithium'</td>\n",
              "      <td>'Li'</td>\n",
              "      <td>3.0</td>\n",
              "      <td>6.941</td>\n",
              "      <td>2.0</td>\n",
              "      <td>1.0</td>\n",
              "    </tr>\n",
              "    <tr>\n",
              "      <th>3</th>\n",
              "      <td>'Beryllium'</td>\n",
              "      <td>'Be'</td>\n",
              "      <td>4.0</td>\n",
              "      <td>9.012</td>\n",
              "      <td>2.0</td>\n",
              "      <td>2.0</td>\n",
              "    </tr>\n",
              "    <tr>\n",
              "      <th>4</th>\n",
              "      <td>'Boron'</td>\n",
              "      <td>'B'</td>\n",
              "      <td>5.0</td>\n",
              "      <td>10.811</td>\n",
              "      <td>2.0</td>\n",
              "      <td>13.0</td>\n",
              "    </tr>\n",
              "  </tbody>\n",
              "</table>\n",
              "</div>"
            ],
            "text/plain": [
              "             0     1    2       3    4     5\n",
              "0   'Hydrogen'   'H'  1.0   1.008  1.0   1.0\n",
              "1     'Helium'  'He'  2.0   4.003  1.0  18.0\n",
              "2    'Lithium'  'Li'  3.0   6.941  2.0   1.0\n",
              "3  'Beryllium'  'Be'  4.0   9.012  2.0   2.0\n",
              "4      'Boron'   'B'  5.0  10.811  2.0  13.0"
            ]
          },
          "metadata": {
            "tags": []
          },
          "execution_count": 3
        }
      ]
    },
    {
      "cell_type": "code",
      "metadata": {
        "id": "KplA8KqHw_U1",
        "colab_type": "code",
        "colab": {}
      },
      "source": [
        "df[0] = df[0].str.strip(\"'\")\n",
        "df[1] = df[1].str.strip(\"'\")"
      ],
      "execution_count": 0,
      "outputs": []
    },
    {
      "cell_type": "code",
      "metadata": {
        "id": "JfYjbYcwvf59",
        "colab_type": "code",
        "colab": {}
      },
      "source": [
        "elements = {}\n",
        "\n",
        "for i in range(len(df)):\n",
        "  element = Element(name = df[0][i],\n",
        "                    abrivation = df[1][i],\n",
        "                    atomic_number = df[2][i],\n",
        "                    atomic_mass = df[3][i],\n",
        "                    period = df[4][i],\n",
        "                    group = df[5][i])\n",
        "  \n",
        "\n",
        "  elements[element.abrivation] = {'name': element.name,\n",
        "                    'atomic_number': element.atomic_number,\n",
        "                    'atomic_mass': element.atomic_mass,\n",
        "                    'period':element.period,\n",
        "                    'group': element.group}"
      ],
      "execution_count": 0,
      "outputs": []
    },
    {
      "cell_type": "code",
      "metadata": {
        "id": "U6c1FjxXwvYB",
        "colab_type": "code",
        "outputId": "28812a2d-0518-48eb-aca2-d2ce7e1f28c4",
        "colab": {
          "base_uri": "https://localhost:8080/",
          "height": 107
        }
      },
      "source": [
        "elements['H']"
      ],
      "execution_count": 0,
      "outputs": [
        {
          "output_type": "execute_result",
          "data": {
            "text/plain": [
              "{'atomic_mass': 1.008,\n",
              " 'atomic_number': 1.0,\n",
              " 'group': 1.0,\n",
              " 'name': 'Hydrogen',\n",
              " 'period': 1.0}"
            ]
          },
          "metadata": {
            "tags": []
          },
          "execution_count": 6
        }
      ]
    },
    {
      "cell_type": "code",
      "metadata": {
        "id": "vdopIvjptnri",
        "colab_type": "code",
        "outputId": "76b3e167-c01b-4066-f365-abdd7247540b",
        "colab": {
          "base_uri": "https://localhost:8080/",
          "height": 71
        }
      },
      "source": [
        "hydrogen = Element(name = 'hydrogen',abrivation = 'H',\n",
        "                   atomic_number = 1, atomic_mass = 1.0079,\n",
        "                   period = 1, group = 1)\n",
        "\n",
        "\n",
        "hydrogen"
      ],
      "execution_count": 0,
      "outputs": [
        {
          "output_type": "execute_result",
          "data": {
            "text/plain": [
              "H\n",
              "1\n",
              "1.0079"
            ]
          },
          "metadata": {
            "tags": []
          },
          "execution_count": 7
        }
      ]
    },
    {
      "cell_type": "markdown",
      "metadata": {
        "id": "-YMYeUspjzIP",
        "colab_type": "text"
      },
      "source": [
        "## Balencing Equations"
      ]
    },
    {
      "cell_type": "code",
      "metadata": {
        "id": "I0TotlbodbxV",
        "colab_type": "code",
        "colab": {}
      },
      "source": [
        "import pandas as pd\n",
        "import numpy as np\n",
        "\n",
        "\n",
        "def balence(equation_str):\n",
        "  return_dict = {}\n",
        "  for species in equation.replace('->', '+').split('+'):\n",
        "    return_dict[species.strip()] = {}\n",
        "    for element in species.strip().split(' '):\n",
        "      if len(element) < 3:\n",
        "        element += '_1'\n",
        "      return_dict[species.strip()][element.split('_')[0]] = element.split('_')[1]\n",
        "\n",
        "\n",
        "  # Lawrence R. Thorne: Simplified Matrix Null-Space Method\n",
        "\n",
        "  # Step 0\n",
        "  chem_comp_table = pd.DataFrame(return_dict, dtype = 'float').fillna(0)\n",
        "  #print(\"Step 0\\n\", chem_comp_table)\n",
        "  #print('\\n')\n",
        "\n",
        "  # Step 1\n",
        "  chem_comp_matrix = chem_comp_table.values\n",
        "  #print(\"Step 1\\n\", chem_comp_matrix)\n",
        "  #print('\\n')\n",
        "\n",
        "  # Step 2\n",
        "  nullity = len(chem_comp_table.columns) - np.linalg.matrix_rank(chem_comp_matrix)\n",
        "  if nullity == 0:\n",
        "    return \"No solution\"\n",
        "  #print(\"Step 2\\n\", nullity)\n",
        "  #print('\\n')\n",
        "\n",
        "  # Step 3\n",
        "  a = np.zeros((nullity, chem_comp_matrix.shape[1]))\n",
        "  b = np.identity(nullity)\n",
        "  augmentation = np.append(a[:, :a.shape[1] - b.shape[1]], b, axis = 1)\n",
        "  augmented_ccm = np.append(chem_comp_matrix, augmentation, axis = 0)\n",
        "  #print(\"Step 3\\n\", augmented_ccm)\n",
        "  #print('\\n')\n",
        "\n",
        "  # Step 4\n",
        "  inverted_ccm = np.linalg.inv(augmented_ccm)\n",
        "  #print(\"Step 4\\n\", inverted_ccm)\n",
        "  #print('\\n')\n",
        "\n",
        "  # Step 5 & 6\n",
        "  null_space_vec = inverted_ccm[:, -nullity].T\n",
        "  #print(\"Step 5 & 6\\n\", null_space_vec)\n",
        "  #print('\\n')\n",
        "\n",
        "  # Step 7\n",
        "  coefs = null_space_vec / min([abs(i) for i in list(null_space_vec)])\n",
        "  if (float(\"inf\") in coefs) or (float(\"-inf\") in coefs):\n",
        "    return \"Infinite solutions\"\n",
        "  coefs = [int(round(abs(i))) for i in coefs]\n",
        "  #print(\"Step 7\\n\", coefs)\n",
        "  #print('\\n')\n",
        "\n",
        "  # Step 8\n",
        "  species = [i.strip() for i in equation.replace('->', '+').split('+')]\n",
        "  for i in range(len(species)):\n",
        "    return_dict[species[i]] = coefs[i]\n",
        "\n",
        "  return_eq = []\n",
        "\n",
        "  for side in equation.split('->'):\n",
        "    new_side = []\n",
        "    for species in side.split('+'):\n",
        "      #print(return_dict[species.strip()], species.strip())\n",
        "      new_side.append(str(return_dict[species.strip()]) + str(species.strip()))\n",
        "    return_eq.append(' + '.join(new_side))\n",
        "\n",
        "  return ' -> '.join(return_eq)"
      ],
      "execution_count": 0,
      "outputs": []
    },
    {
      "cell_type": "code",
      "metadata": {
        "id": "S75_tvNg1VWV",
        "colab_type": "code",
        "outputId": "c33969f2-29cc-4a00-b29f-42072307bba8",
        "colab": {
          "base_uri": "https://localhost:8080/",
          "height": 35
        }
      },
      "source": [
        "equation = 'C H_4 + H_2 O -> C O_2 + H_2'\n",
        "\n",
        "balence(equation)"
      ],
      "execution_count": 0,
      "outputs": [
        {
          "output_type": "execute_result",
          "data": {
            "text/plain": [
              "'1C H_4 + 2H_2 O -> 1C O_2 + 4H_2'"
            ]
          },
          "metadata": {
            "tags": []
          },
          "execution_count": 156
        }
      ]
    },
    {
      "cell_type": "code",
      "metadata": {
        "id": "wP9EB1tx5wvi",
        "colab_type": "code",
        "outputId": "4cc51651-a0e1-45d0-a0c0-4bdb34d708f4",
        "colab": {
          "base_uri": "https://localhost:8080/",
          "height": 35
        }
      },
      "source": [
        "equation = 'K I + K Cl O_3 + H Cl -> I_2 + H_2 O + K Cl'\n",
        "\n",
        "balence(equation)"
      ],
      "execution_count": 0,
      "outputs": [
        {
          "output_type": "execute_result",
          "data": {
            "text/plain": [
              "'6K I + 1K Cl O_3 + 6H Cl -> 3I_2 + 3H_2 O + 7K Cl'"
            ]
          },
          "metadata": {
            "tags": []
          },
          "execution_count": 157
        }
      ]
    },
    {
      "cell_type": "code",
      "metadata": {
        "id": "R3y1sZv96Wid",
        "colab_type": "code",
        "outputId": "3fa97c67-8b58-45fb-b1c8-426ac966d81c",
        "colab": {
          "base_uri": "https://localhost:8080/",
          "height": 71
        }
      },
      "source": [
        "equation = 'C O + C O_2 + H_2 -> C H_4 + H_2 O'\n",
        "\n",
        "balence(equation)"
      ],
      "execution_count": 0,
      "outputs": [
        {
          "output_type": "stream",
          "text": [
            "/usr/local/lib/python3.6/dist-packages/ipykernel_launcher.py:53: RuntimeWarning: divide by zero encountered in true_divide\n",
            "/usr/local/lib/python3.6/dist-packages/ipykernel_launcher.py:53: RuntimeWarning: invalid value encountered in true_divide\n"
          ],
          "name": "stderr"
        },
        {
          "output_type": "execute_result",
          "data": {
            "text/plain": [
              "'Infinite solutions'"
            ]
          },
          "metadata": {
            "tags": []
          },
          "execution_count": 158
        }
      ]
    },
    {
      "cell_type": "code",
      "metadata": {
        "id": "zLWQdB3y72Xp",
        "colab_type": "code",
        "outputId": "73d01012-e1fa-4afb-92ed-12ae126cf00d",
        "colab": {
          "base_uri": "https://localhost:8080/",
          "height": 35
        }
      },
      "source": [
        "equation = 'Fe S_2 + H N O_3 -> Fe_2 S_3 O_12 + N O + H_2 S O_4'\n",
        "\n",
        "balence(equation)"
      ],
      "execution_count": 0,
      "outputs": [
        {
          "output_type": "execute_result",
          "data": {
            "text/plain": [
              "'No solution'"
            ]
          },
          "metadata": {
            "tags": []
          },
          "execution_count": 159
        }
      ]
    },
    {
      "cell_type": "code",
      "metadata": {
        "id": "HLqy_O8588CZ",
        "colab_type": "code",
        "outputId": "1163fd9c-bb33-422d-aca8-627ba723ff6e",
        "colab": {
          "base_uri": "https://localhost:8080/",
          "height": 35
        }
      },
      "source": [
        "#Sabitier raction\n",
        "equation = 'C O_2 + H_2 -> C H_4 + O_2'\n",
        "\n",
        "balence(equation)"
      ],
      "execution_count": 0,
      "outputs": [
        {
          "output_type": "execute_result",
          "data": {
            "text/plain": [
              "'1C O_2 + 2H_2 -> 1C H_4 + 1O_2'"
            ]
          },
          "metadata": {
            "tags": []
          },
          "execution_count": 161
        }
      ]
    },
    {
      "cell_type": "markdown",
      "metadata": {
        "id": "LlL-VjMQGgSr",
        "colab_type": "text"
      },
      "source": [
        "## Stoichiometry"
      ]
    },
    {
      "cell_type": "code",
      "metadata": {
        "id": "I-WIzt95EroK",
        "colab_type": "code",
        "colab": {}
      },
      "source": [
        "avogadro = 6.0221409E23\n",
        "\n",
        "\n",
        "def atoms_to_moles(atoms):\n",
        "  return atoms / avogadro\n",
        "\n",
        "\n",
        "def moles_to_mass(moles, molar_mass):\n",
        "  return moles * molar_mass\n",
        "\n",
        "\n",
        "def mass_to_moles(mass, molar_mass):\n",
        "  return mass / molar_mass\n",
        "\n",
        "\n",
        "def moles_to_atoms(moles):\n",
        "  return moles * avogadro"
      ],
      "execution_count": 0,
      "outputs": []
    },
    {
      "cell_type": "code",
      "metadata": {
        "id": "I3pMvnyGFIz2",
        "colab_type": "code",
        "colab": {}
      },
      "source": [
        "moles_to_atoms(5E-10)"
      ],
      "execution_count": 0,
      "outputs": []
    },
    {
      "cell_type": "markdown",
      "metadata": {
        "id": "6gGH4XCT_6J9",
        "colab_type": "text"
      },
      "source": [
        "## Calculating percent composition"
      ]
    },
    {
      "cell_type": "code",
      "metadata": {
        "id": "4or4Kv9O50co",
        "colab_type": "code",
        "colab": {}
      },
      "source": [
        "def chem_spliter(chem):\n",
        "  \"\"\"\n",
        "  Input: Chemical formula in form (H_2 O)\n",
        "  Output: Array of tuples shape (Chem abbv, ,moles)\n",
        "  \"\"\"\n",
        "  return_array = []\n",
        "  for i in chem.split(' '):\n",
        "    return_array.append((i.split('_')[0],i.split('_')[1]))\n",
        "  return return_array"
      ],
      "execution_count": 0,
      "outputs": []
    },
    {
      "cell_type": "code",
      "metadata": {
        "id": "7tiyG8ndF_Sr",
        "colab_type": "code",
        "colab": {}
      },
      "source": [
        "def percent_composition(chemical):\n",
        "  \"\"\"\n",
        "  Input: Chemical formula in form (H_2 O)\n",
        "  Output: Dict in form {Element: %comp}\n",
        "  \"\"\"\n",
        "  return_dict = {}\n",
        "  masses = []\n",
        "  chem_spliter(chemical)\n",
        "\n",
        "  for i in chem_spliter(chemical):\n",
        "    masses.append(elements[i[0]]['atomic_mass'] * int(i[1]))\n",
        "\n",
        "  chemical_mass = sum(masses)\n",
        "\n",
        "  for k, v in zip(chem_spliter(chemical), masses):\n",
        "    return_dict[k[0]] = (v / chemical_mass) * 100\n",
        "\n",
        "  return return_dict"
      ],
      "execution_count": 0,
      "outputs": []
    },
    {
      "cell_type": "code",
      "metadata": {
        "id": "wDoufJJTzA2H",
        "colab_type": "code",
        "colab": {}
      },
      "source": [
        "chemical = 'C_10 F_18'\n",
        "\n",
        "percent_composition(chemical)"
      ],
      "execution_count": 0,
      "outputs": []
    },
    {
      "cell_type": "code",
      "metadata": {
        "id": "7R5cHXRQ3jZY",
        "colab_type": "code",
        "colab": {}
      },
      "source": [
        ""
      ],
      "execution_count": 0,
      "outputs": []
    }
  ]
}